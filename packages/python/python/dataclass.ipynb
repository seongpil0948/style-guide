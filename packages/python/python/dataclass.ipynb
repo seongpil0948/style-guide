{
 "metadata": {
  "language_info": {
   "codemirror_mode": {
    "name": "ipython",
    "version": 3
   },
   "file_extension": ".py",
   "mimetype": "text/x-python",
   "name": "python",
   "nbconvert_exporter": "python",
   "pygments_lexer": "ipython3",
   "version": "3.9.5"
  },
  "orig_nbformat": 2,
  "kernelspec": {
   "name": "python395jvsc74a57bd066d75cbb2782cf818e32eddee89512a0e38f194a15c766831189882628762bf0",
   "display_name": "Python 3.9.5 64-bit ('latest': conda)"
  }
 },
 "nbformat": 4,
 "nbformat_minor": 2,
 "cells": [
  {
   "source": [
    "* init: If true (the default), a __init__() method will be generated.\n",
    "* repr: If true (the default), a __repr__() method will be generated.\n",
    "* eq: If true (the default), an __eq__() method will be generated.\n",
    "* order: If true (the default is False), __lt__(), __le__(), __gt__(), and __ge__() methods will be generated.\n",
    "* unsafe_hash: If False (the default), a __hash__() method is generated according to how eq and frozen are set.\n",
    "* frozen: If true (the default is False), assigning to fields will generate an exception. This emulates read-only frozen instances.\n",
    "* metadata: This can be a mapping or None.\n",
    "* default: If provided, this will be the default value for this field.   \n",
    "    This is needed because the field() call itself replaces the normal position of the default value.\n",
    "* default_factory: A function that returns the initial value of the field.   \n",
    "    If provided, it must be a zero-argument callable."
   ],
   "cell_type": "markdown",
   "metadata": {}
  },
  {
   "cell_type": "code",
   "execution_count": 60,
   "metadata": {},
   "outputs": [],
   "source": [
    "from dataclasses import dataclass, fields, field, asdict, astuple, make_dataclass"
   ]
  },
  {
   "cell_type": "code",
   "execution_count": 12,
   "metadata": {},
   "outputs": [],
   "source": [
    "\n",
    "\n",
    "@dataclass(unsafe_hash=True)\n",
    "class Stock:\n",
    "    product: str\n",
    "    unit_price: int\n",
    "    quantity: int = 0\n",
    "        \n",
    "    def total_cost(self) -> int:\n",
    "            return self.unit_price * self.quantity"
   ]
  },
  {
   "cell_type": "code",
   "execution_count": 13,
   "metadata": {},
   "outputs": [
    {
     "output_type": "execute_result",
     "data": {
      "text/plain": [
       "40"
      ]
     },
     "metadata": {},
     "execution_count": 13
    }
   ],
   "source": [
    "card = Stock('Card', 2, 20)\n",
    "card.total_cost()"
   ]
  },
  {
   "cell_type": "code",
   "execution_count": 21,
   "metadata": {},
   "outputs": [
    {
     "output_type": "execute_result",
     "data": {
      "text/plain": [
       "{'product': Field(name='product',type=<class 'str'>,default=<dataclasses._MISSING_TYPE object at 0x7fea2193ec10>,default_factory=<dataclasses._MISSING_TYPE object at 0x7fea2193ec10>,init=True,repr=True,hash=None,compare=True,metadata=mappingproxy({}),_field_type=_FIELD),\n",
       " 'unit_price': Field(name='unit_price',type=<class 'int'>,default=<dataclasses._MISSING_TYPE object at 0x7fea2193ec10>,default_factory=<dataclasses._MISSING_TYPE object at 0x7fea2193ec10>,init=True,repr=True,hash=None,compare=True,metadata=mappingproxy({}),_field_type=_FIELD),\n",
       " 'quantity': Field(name='quantity',type=<class 'int'>,default=0,default_factory=<dataclasses._MISSING_TYPE object at 0x7fea2193ec10>,init=True,repr=True,hash=None,compare=True,metadata=mappingproxy({}),_field_type=_FIELD)}"
      ]
     },
     "metadata": {},
     "execution_count": 21
    }
   ],
   "source": [
    "card.__dataclass_fields__"
   ]
  },
  {
   "cell_type": "code",
   "execution_count": 27,
   "metadata": {},
   "outputs": [
    {
     "output_type": "execute_result",
     "data": {
      "text/plain": [
       "True"
      ]
     },
     "metadata": {},
     "execution_count": 27
    }
   ],
   "source": [
    "fields(card) == tuple(card.__dataclass_fields__.values())"
   ]
  },
  {
   "cell_type": "code",
   "execution_count": 17,
   "metadata": {},
   "outputs": [
    {
     "output_type": "execute_result",
     "data": {
      "text/plain": [
       "_DataclassParams(init=True,repr=True,eq=True,order=False,unsafe_hash=True,frozen=False)"
      ]
     },
     "metadata": {},
     "execution_count": 17
    }
   ],
   "source": [
    "card.__dataclass_params__"
   ]
  },
  {
   "cell_type": "code",
   "execution_count": 42,
   "metadata": {},
   "outputs": [],
   "source": [
    "@dataclass\n",
    "class Todo:\n",
    "    date: str = field( metadata=\"date of the completion todo\")\n",
    "    completed: bool = field(default=False)\n",
    "    todo_list: list[int] = field(default_factory=list)\n",
    "    c: float = field(init=False)\n",
    "\n",
    "    def __post_init__(self):\n",
    "        # call by __init__\n",
    "        if self.completed:\n",
    "            self.c = 50"
   ]
  },
  {
   "cell_type": "code",
   "execution_count": 55,
   "metadata": {},
   "outputs": [],
   "source": [
    "a = Todo(date=\"2021-05-21\")\n",
    "b = Todo(date=\"2021-01-21\", completed=True)\n"
   ]
  },
  {
   "cell_type": "code",
   "execution_count": 47,
   "metadata": {},
   "outputs": [
    {
     "output_type": "stream",
     "name": "stdout",
     "text": [
      "50\n"
     ]
    },
    {
     "output_type": "error",
     "ename": "AttributeError",
     "evalue": "'Todo' object has no attribute 'c'",
     "traceback": [
      "\u001b[0;31m---------------------------------------------------------------------------\u001b[0m",
      "\u001b[0;31mAttributeError\u001b[0m                            Traceback (most recent call last)",
      "\u001b[0;32m<ipython-input-47-f6285c22c582>\u001b[0m in \u001b[0;36m<module>\u001b[0;34m\u001b[0m\n\u001b[1;32m      1\u001b[0m \u001b[0mprint\u001b[0m\u001b[0;34m(\u001b[0m\u001b[0mb\u001b[0m\u001b[0;34m.\u001b[0m\u001b[0mc\u001b[0m\u001b[0;34m)\u001b[0m\u001b[0;34m\u001b[0m\u001b[0;34m\u001b[0m\u001b[0m\n\u001b[0;32m----> 2\u001b[0;31m \u001b[0ma\u001b[0m\u001b[0;34m.\u001b[0m\u001b[0mc\u001b[0m\u001b[0;34m\u001b[0m\u001b[0;34m\u001b[0m\u001b[0m\n\u001b[0m",
      "\u001b[0;31mAttributeError\u001b[0m: 'Todo' object has no attribute 'c'"
     ]
    }
   ],
   "source": [
    "print(b.c)\n",
    "a.c"
   ]
  },
  {
   "cell_type": "code",
   "execution_count": 58,
   "metadata": {},
   "outputs": [
    {
     "output_type": "execute_result",
     "data": {
      "text/plain": [
       "('2021-05-21', False, ['one', 'two', 'one', 'two', 'one', 'two'], 100)"
      ]
     },
     "metadata": {},
     "execution_count": 58
    }
   ],
   "source": [
    "a.todo_list += [\"one\", \"two\"]\n",
    "a.c = 100\n",
    "astuple(a)"
   ]
  },
  {
   "cell_type": "code",
   "execution_count": 59,
   "metadata": {},
   "outputs": [
    {
     "output_type": "execute_result",
     "data": {
      "text/plain": [
       "{'date': '2021-05-21',\n",
       " 'completed': False,\n",
       " 'todo_list': ['one', 'two', 'one', 'two', 'one', 'two'],\n",
       " 'c': 100}"
      ]
     },
     "metadata": {},
     "execution_count": 59
    }
   ],
   "source": [
    "asdict(a)"
   ]
  },
  {
   "cell_type": "code",
   "execution_count": 64,
   "metadata": {},
   "outputs": [],
   "source": [
    "C = make_dataclass('C',\n",
    "                   [('x', int),\n",
    "                     'y',\n",
    "                    ('z', int, field(default=5))],\n",
    "                   namespace={'add_one': lambda self: self.x + 1})\n",
    "# =======================> Is equivalent to:\n",
    "@dataclass\n",
    "class C:\n",
    "    x: int\n",
    "    y: 'typing.Any'\n",
    "    z: int = 5\n",
    "    def add_one(self):\n",
    "        return self.x + 1"
   ]
  },
  {
   "cell_type": "code",
   "execution_count": null,
   "metadata": {},
   "outputs": [],
   "source": [
    "C.x"
   ]
  },
  {
   "cell_type": "code",
   "execution_count": null,
   "metadata": {},
   "outputs": [],
   "source": []
  }
 ]
}