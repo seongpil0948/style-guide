{
 "metadata": {
  "language_info": {
   "codemirror_mode": {
    "name": "ipython",
    "version": 3
   },
   "file_extension": ".py",
   "mimetype": "text/x-python",
   "name": "python",
   "nbconvert_exporter": "python",
   "pygments_lexer": "ipython3",
   "version": "3.9.4"
  },
  "orig_nbformat": 4,
  "kernelspec": {
   "name": "python3",
   "display_name": "Python 3.9.4 64-bit ('best': conda)"
  },
  "interpreter": {
   "hash": "a5c62d5753d3648341a573f86411ab3b735060ccf942241bea8fd25da7af69a7"
  }
 },
 "nbformat": 4,
 "nbformat_minor": 2,
 "cells": [
  {
   "cell_type": "code",
   "execution_count": 11,
   "metadata": {},
   "outputs": [
    {
     "output_type": "stream",
     "name": "stdout",
     "text": [
      "0b11\n-0b11\n3\n0b1000\n"
     ]
    }
   ],
   "source": [
    "print(bin(3))\n",
    "print(bin(-3))\n",
    "print(int('011', 2)) # 2 bit 를 10진수로 변환\n",
    "print(bin(0b1100 & 0b1001))"
   ]
  },
  {
   "cell_type": "code",
   "execution_count": 17,
   "metadata": {},
   "outputs": [
    {
     "output_type": "stream",
     "name": "stdout",
     "text": [
      "b'\\x00\\x00\\x00\\x00\\x00\\x00\\x00\\x00\\x00\\x00'\nb'\\n\\x14\\x1e(2'\n"
     ]
    },
    {
     "output_type": "execute_result",
     "data": {
      "text/plain": [
       "10"
      ]
     },
     "metadata": {},
     "execution_count": 17
    }
   ],
   "source": [
    "print(bytes(10))    # 0이 10개 들어있는 바이트 객체 생성\n",
    "a = bytes([10, 20, 30, 40, 50]) # 리스트로 바이트 객체 생성\n",
    "print(a)\n",
    "a[0]"
   ]
  },
  {
   "cell_type": "code",
   "execution_count": 21,
   "metadata": {},
   "outputs": [
    {
     "output_type": "stream",
     "name": "stdout",
     "text": [
      "b'hello'\nb'hello'\nbytearray(b'hello')\n"
     ]
    },
    {
     "output_type": "execute_result",
     "data": {
      "text/plain": [
       "104"
      ]
     },
     "metadata": {},
     "execution_count": 21
    }
   ],
   "source": [
    "print(b'hello')\n",
    "print('hello'.encode())\n",
    "x = bytearray(b'hello')\n",
    "print(x)\n",
    "x[0]"
   ]
  },
  {
   "cell_type": "code",
   "execution_count": 23,
   "metadata": {},
   "outputs": [
    {
     "output_type": "stream",
     "name": "stdout",
     "text": [
      "b'\\xbe\\xc8\\xb3\\xe7'\n"
     ]
    },
    {
     "output_type": "execute_result",
     "data": {
      "text/plain": [
       "bytearray(b'\\xbe\\xc8\\xb3\\xe7')"
      ]
     },
     "metadata": {},
     "execution_count": 23
    }
   ],
   "source": [
    "print( bytes('안녕', encoding='euc-kr'))\n",
    "bytearray('안녕', encoding='cp949')"
   ]
  },
  {
   "cell_type": "code",
   "execution_count": null,
   "metadata": {},
   "outputs": [],
   "source": []
  }
 ]
}