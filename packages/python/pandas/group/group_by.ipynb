{
 "metadata": {
  "language_info": {
   "codemirror_mode": {
    "name": "ipython",
    "version": 3
   },
   "file_extension": ".py",
   "mimetype": "text/x-python",
   "name": "python",
   "nbconvert_exporter": "python",
   "pygments_lexer": "ipython3",
   "version": "3.8.5-final"
  },
  "orig_nbformat": 2,
  "kernelspec": {
   "name": "python38364bitmconda292a4eafb10f4347bf8908a2749a27b8",
   "display_name": "Python 3.8.3 64-bit ('m': conda)"
  }
 },
 "nbformat": 4,
 "nbformat_minor": 2,
 "cells": [
  {
   "cell_type": "code",
   "execution_count": 14,
   "metadata": {},
   "outputs": [],
   "source": [
    "import pandas as pd\n",
    "import numpy as np"
   ]
  },
  {
   "cell_type": "code",
   "execution_count": 15,
   "metadata": {},
   "outputs": [
    {
     "output_type": "execute_result",
     "data": {
      "text/plain": [
       "                  C         D\n",
       "A   B                        \n",
       "foo one    0.857315  0.627679\n",
       "bar one   -1.360694 -0.253599\n",
       "foo two   -1.077078  0.301817\n",
       "bar three  0.197272 -0.904517\n",
       "foo two    0.431501  0.995049\n",
       "bar two   -1.000994 -0.769606\n",
       "foo one    2.132357 -1.033205\n",
       "    three -0.688782 -0.756808"
      ],
      "text/html": "<div>\n<style scoped>\n    .dataframe tbody tr th:only-of-type {\n        vertical-align: middle;\n    }\n\n    .dataframe tbody tr th {\n        vertical-align: top;\n    }\n\n    .dataframe thead th {\n        text-align: right;\n    }\n</style>\n<table border=\"1\" class=\"dataframe\">\n  <thead>\n    <tr style=\"text-align: right;\">\n      <th></th>\n      <th></th>\n      <th>C</th>\n      <th>D</th>\n    </tr>\n    <tr>\n      <th>A</th>\n      <th>B</th>\n      <th></th>\n      <th></th>\n    </tr>\n  </thead>\n  <tbody>\n    <tr>\n      <th>foo</th>\n      <th>one</th>\n      <td>0.857315</td>\n      <td>0.627679</td>\n    </tr>\n    <tr>\n      <th>bar</th>\n      <th>one</th>\n      <td>-1.360694</td>\n      <td>-0.253599</td>\n    </tr>\n    <tr>\n      <th>foo</th>\n      <th>two</th>\n      <td>-1.077078</td>\n      <td>0.301817</td>\n    </tr>\n    <tr>\n      <th>bar</th>\n      <th>three</th>\n      <td>0.197272</td>\n      <td>-0.904517</td>\n    </tr>\n    <tr>\n      <th>foo</th>\n      <th>two</th>\n      <td>0.431501</td>\n      <td>0.995049</td>\n    </tr>\n    <tr>\n      <th>bar</th>\n      <th>two</th>\n      <td>-1.000994</td>\n      <td>-0.769606</td>\n    </tr>\n    <tr>\n      <th rowspan=\"2\" valign=\"top\">foo</th>\n      <th>one</th>\n      <td>2.132357</td>\n      <td>-1.033205</td>\n    </tr>\n    <tr>\n      <th>three</th>\n      <td>-0.688782</td>\n      <td>-0.756808</td>\n    </tr>\n  </tbody>\n</table>\n</div>"
     },
     "metadata": {},
     "execution_count": 15
    }
   ],
   "source": [
    "df = pd.DataFrame(\n",
    "    {'A': ['foo', 'bar', 'foo', 'bar',\n",
    "    'foo', 'bar', 'foo', 'foo'],\n",
    "    'B': ['one', 'one', 'two', 'three',\n",
    "    'two', 'two', 'one', 'three'],\n",
    "    'C': np.random.randn(8),\n",
    "    'D': np.random.randn(8)})\n",
    "df2 = df.set_index(['A', 'B'])\n",
    "df2"
   ]
  },
  {
   "cell_type": "code",
   "execution_count": 16,
   "metadata": {},
   "outputs": [
    {
     "output_type": "execute_result",
     "data": {
      "text/plain": [
       "FrozenList(['A'])"
      ]
     },
     "metadata": {},
     "execution_count": 16
    }
   ],
   "source": [
    "df2.index.names.difference(['B'])"
   ]
  },
  {
   "cell_type": "code",
   "execution_count": 17,
   "metadata": {},
   "outputs": [
    {
     "output_type": "execute_result",
     "data": {
      "text/plain": [
       "            C         D\n",
       "A                      \n",
       "bar -2.164417 -1.927721\n",
       "foo  1.655313  0.134532"
      ],
      "text/html": "<div>\n<style scoped>\n    .dataframe tbody tr th:only-of-type {\n        vertical-align: middle;\n    }\n\n    .dataframe tbody tr th {\n        vertical-align: top;\n    }\n\n    .dataframe thead th {\n        text-align: right;\n    }\n</style>\n<table border=\"1\" class=\"dataframe\">\n  <thead>\n    <tr style=\"text-align: right;\">\n      <th></th>\n      <th>C</th>\n      <th>D</th>\n    </tr>\n    <tr>\n      <th>A</th>\n      <th></th>\n      <th></th>\n    </tr>\n  </thead>\n  <tbody>\n    <tr>\n      <th>bar</th>\n      <td>-2.164417</td>\n      <td>-1.927721</td>\n    </tr>\n    <tr>\n      <th>foo</th>\n      <td>1.655313</td>\n      <td>0.134532</td>\n    </tr>\n  </tbody>\n</table>\n</div>"
     },
     "metadata": {},
     "execution_count": 17
    }
   ],
   "source": [
    "grouped = df2.groupby(level=df2.index.names.difference(['B']))\n",
    "grouped.sum()"
   ]
  },
  {
   "cell_type": "code",
   "execution_count": 18,
   "metadata": {},
   "outputs": [
    {
     "output_type": "execute_result",
     "data": {
      "text/plain": [
       "1     1\n",
       "2     2\n",
       "3     3\n",
       "1    10\n",
       "2    20\n",
       "3    30\n",
       "dtype: int64"
      ]
     },
     "metadata": {},
     "execution_count": 18
    }
   ],
   "source": [
    "lst = [1, 2, 3, 1, 2, 3]\n",
    "s = pd.Series(data=[1, 2, 3, 10, 20, 30], index=lst)\n",
    "s"
   ]
  },
  {
   "cell_type": "code",
   "execution_count": 19,
   "metadata": {},
   "outputs": [
    {
     "output_type": "execute_result",
     "data": {
      "text/plain": [
       "1    11\n",
       "2    22\n",
       "3    33\n",
       "dtype: int64"
      ]
     },
     "metadata": {},
     "execution_count": 19
    }
   ],
   "source": [
    "s.groupby(level=0).sum()"
   ]
  },
  {
   "cell_type": "code",
   "execution_count": 22,
   "metadata": {},
   "outputs": [
    {
     "output_type": "execute_result",
     "data": {
      "text/plain": [
       "1    1\n",
       "2    2\n",
       "3    3\n",
       "dtype: int64"
      ]
     },
     "metadata": {},
     "execution_count": 22
    }
   ],
   "source": [
    "# 중복된 인덱스에 대하여 첫번째 그룹만 계산\n",
    "#  Compute first of group values\n",
    "s.groupby(level=0).first()"
   ]
  },
  {
   "cell_type": "code",
   "execution_count": 26,
   "metadata": {},
   "outputs": [
    {
     "output_type": "execute_result",
     "data": {
      "text/plain": [
       "     A      B         C         D\n",
       "0  bar    one -1.360694 -0.253599\n",
       "1  bar  three  0.197272 -0.904517\n",
       "2  bar    two -1.000994 -0.769606\n",
       "3  foo    one  2.989672 -0.405526\n",
       "4  foo  three -0.688782 -0.756808\n",
       "5  foo    two -0.645577  1.296866"
      ],
      "text/html": "<div>\n<style scoped>\n    .dataframe tbody tr th:only-of-type {\n        vertical-align: middle;\n    }\n\n    .dataframe tbody tr th {\n        vertical-align: top;\n    }\n\n    .dataframe thead th {\n        text-align: right;\n    }\n</style>\n<table border=\"1\" class=\"dataframe\">\n  <thead>\n    <tr style=\"text-align: right;\">\n      <th></th>\n      <th>A</th>\n      <th>B</th>\n      <th>C</th>\n      <th>D</th>\n    </tr>\n  </thead>\n  <tbody>\n    <tr>\n      <th>0</th>\n      <td>bar</td>\n      <td>one</td>\n      <td>-1.360694</td>\n      <td>-0.253599</td>\n    </tr>\n    <tr>\n      <th>1</th>\n      <td>bar</td>\n      <td>three</td>\n      <td>0.197272</td>\n      <td>-0.904517</td>\n    </tr>\n    <tr>\n      <th>2</th>\n      <td>bar</td>\n      <td>two</td>\n      <td>-1.000994</td>\n      <td>-0.769606</td>\n    </tr>\n    <tr>\n      <th>3</th>\n      <td>foo</td>\n      <td>one</td>\n      <td>2.989672</td>\n      <td>-0.405526</td>\n    </tr>\n    <tr>\n      <th>4</th>\n      <td>foo</td>\n      <td>three</td>\n      <td>-0.688782</td>\n      <td>-0.756808</td>\n    </tr>\n    <tr>\n      <th>5</th>\n      <td>foo</td>\n      <td>two</td>\n      <td>-0.645577</td>\n      <td>1.296866</td>\n    </tr>\n  </tbody>\n</table>\n</div>"
     },
     "metadata": {},
     "execution_count": 26
    }
   ],
   "source": [
    "df.groupby(['A', 'B']).aggregate(np.sum).reset_index()"
   ]
  },
  {
   "cell_type": "code",
   "execution_count": 25,
   "metadata": {},
   "outputs": [
    {
     "output_type": "execute_result",
     "data": {
      "text/plain": [
       "     A      B         C         D\n",
       "0  bar    one -1.360694 -0.253599\n",
       "1  bar  three  0.197272 -0.904517\n",
       "2  bar    two -1.000994 -0.769606\n",
       "3  foo    one  2.989672 -0.405526\n",
       "4  foo  three -0.688782 -0.756808\n",
       "5  foo    two -0.645577  1.296866"
      ],
      "text/html": "<div>\n<style scoped>\n    .dataframe tbody tr th:only-of-type {\n        vertical-align: middle;\n    }\n\n    .dataframe tbody tr th {\n        vertical-align: top;\n    }\n\n    .dataframe thead th {\n        text-align: right;\n    }\n</style>\n<table border=\"1\" class=\"dataframe\">\n  <thead>\n    <tr style=\"text-align: right;\">\n      <th></th>\n      <th>A</th>\n      <th>B</th>\n      <th>C</th>\n      <th>D</th>\n    </tr>\n  </thead>\n  <tbody>\n    <tr>\n      <th>0</th>\n      <td>bar</td>\n      <td>one</td>\n      <td>-1.360694</td>\n      <td>-0.253599</td>\n    </tr>\n    <tr>\n      <th>1</th>\n      <td>bar</td>\n      <td>three</td>\n      <td>0.197272</td>\n      <td>-0.904517</td>\n    </tr>\n    <tr>\n      <th>2</th>\n      <td>bar</td>\n      <td>two</td>\n      <td>-1.000994</td>\n      <td>-0.769606</td>\n    </tr>\n    <tr>\n      <th>3</th>\n      <td>foo</td>\n      <td>one</td>\n      <td>2.989672</td>\n      <td>-0.405526</td>\n    </tr>\n    <tr>\n      <th>4</th>\n      <td>foo</td>\n      <td>three</td>\n      <td>-0.688782</td>\n      <td>-0.756808</td>\n    </tr>\n    <tr>\n      <th>5</th>\n      <td>foo</td>\n      <td>two</td>\n      <td>-0.645577</td>\n      <td>1.296866</td>\n    </tr>\n  </tbody>\n</table>\n</div>"
     },
     "metadata": {},
     "execution_count": 25
    }
   ],
   "source": [
    "df.groupby(['A', 'B'], as_index=False).aggregate(np.sum)"
   ]
  },
  {
   "cell_type": "code",
   "execution_count": 28,
   "metadata": {},
   "outputs": [
    {
     "output_type": "execute_result",
     "data": {
      "text/plain": [
       "          sum      mean       std\n",
       "A                                \n",
       "bar -2.164417 -0.721472  0.815729\n",
       "foo  1.655313  0.331063  1.280101"
      ],
      "text/html": "<div>\n<style scoped>\n    .dataframe tbody tr th:only-of-type {\n        vertical-align: middle;\n    }\n\n    .dataframe tbody tr th {\n        vertical-align: top;\n    }\n\n    .dataframe thead th {\n        text-align: right;\n    }\n</style>\n<table border=\"1\" class=\"dataframe\">\n  <thead>\n    <tr style=\"text-align: right;\">\n      <th></th>\n      <th>sum</th>\n      <th>mean</th>\n      <th>std</th>\n    </tr>\n    <tr>\n      <th>A</th>\n      <th></th>\n      <th></th>\n      <th></th>\n    </tr>\n  </thead>\n  <tbody>\n    <tr>\n      <th>bar</th>\n      <td>-2.164417</td>\n      <td>-0.721472</td>\n      <td>0.815729</td>\n    </tr>\n    <tr>\n      <th>foo</th>\n      <td>1.655313</td>\n      <td>0.331063</td>\n      <td>1.280101</td>\n    </tr>\n  </tbody>\n</table>\n</div>"
     },
     "metadata": {},
     "execution_count": 28
    }
   ],
   "source": [
    "# A 그룹바이 에서 C 컬럼에 대한 집계 실행\n",
    "df.groupby('A')['C'].agg([np.sum, np.mean, np.std])"
   ]
  },
  {
   "cell_type": "code",
   "execution_count": 29,
   "metadata": {},
   "outputs": [
    {
     "output_type": "execute_result",
     "data": {
      "text/plain": [
       "            C                             D                    \n",
       "          sum      mean       std       sum      mean       std\n",
       "A                                                              \n",
       "bar -2.164417 -0.721472  0.815729 -1.927721 -0.642574  0.343550\n",
       "foo  1.655313  0.331063  1.280101  0.134532  0.026906  0.882021"
      ],
      "text/html": "<div>\n<style scoped>\n    .dataframe tbody tr th:only-of-type {\n        vertical-align: middle;\n    }\n\n    .dataframe tbody tr th {\n        vertical-align: top;\n    }\n\n    .dataframe thead tr th {\n        text-align: left;\n    }\n\n    .dataframe thead tr:last-of-type th {\n        text-align: right;\n    }\n</style>\n<table border=\"1\" class=\"dataframe\">\n  <thead>\n    <tr>\n      <th></th>\n      <th colspan=\"3\" halign=\"left\">C</th>\n      <th colspan=\"3\" halign=\"left\">D</th>\n    </tr>\n    <tr>\n      <th></th>\n      <th>sum</th>\n      <th>mean</th>\n      <th>std</th>\n      <th>sum</th>\n      <th>mean</th>\n      <th>std</th>\n    </tr>\n    <tr>\n      <th>A</th>\n      <th></th>\n      <th></th>\n      <th></th>\n      <th></th>\n      <th></th>\n      <th></th>\n    </tr>\n  </thead>\n  <tbody>\n    <tr>\n      <th>bar</th>\n      <td>-2.164417</td>\n      <td>-0.721472</td>\n      <td>0.815729</td>\n      <td>-1.927721</td>\n      <td>-0.642574</td>\n      <td>0.343550</td>\n    </tr>\n    <tr>\n      <th>foo</th>\n      <td>1.655313</td>\n      <td>0.331063</td>\n      <td>1.280101</td>\n      <td>0.134532</td>\n      <td>0.026906</td>\n      <td>0.882021</td>\n    </tr>\n  </tbody>\n</table>\n</div>"
     },
     "metadata": {},
     "execution_count": 29
    }
   ],
   "source": [
    "df.groupby('A').agg([np.sum, np.mean, np.std])"
   ]
  },
  {
   "cell_type": "code",
   "execution_count": null,
   "metadata": {},
   "outputs": [],
   "source": []
  }
 ]
}