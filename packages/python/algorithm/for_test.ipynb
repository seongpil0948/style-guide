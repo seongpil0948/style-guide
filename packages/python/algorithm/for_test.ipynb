{
 "metadata": {
  "language_info": {
   "codemirror_mode": {
    "name": "ipython",
    "version": 3
   },
   "file_extension": ".py",
   "mimetype": "text/x-python",
   "name": "python",
   "nbconvert_exporter": "python",
   "pygments_lexer": "ipython3",
   "version": "3.8.5-final"
  },
  "orig_nbformat": 2,
  "kernelspec": {
   "name": "python38364bitmconda292a4eafb10f4347bf8908a2749a27b8",
   "display_name": "Python 3.8.3 64-bit ('m': conda)",
   "language": "python"
  }
 },
 "nbformat": 4,
 "nbformat_minor": 2,
 "cells": [
  {
   "cell_type": "code",
   "execution_count": 51,
   "metadata": {},
   "outputs": [
    {
     "output_type": "error",
     "ename": "AttributeError",
     "evalue": "'Node' object has no attribute 'get_h'",
     "traceback": [
      "\u001b[0;31m---------------------------------------------------------------------------\u001b[0m",
      "\u001b[0;31mAttributeError\u001b[0m                            Traceback (most recent call last)",
      "\u001b[0;32m<ipython-input-51-9b64c2bc5206>\u001b[0m in \u001b[0;36m<module>\u001b[0;34m\u001b[0m\n\u001b[1;32m     68\u001b[0m \u001b[0;31m# print(\"Debug messages...\", file=sys.stderr, flush=True)\u001b[0m\u001b[0;34m\u001b[0m\u001b[0;34m\u001b[0m\u001b[0;34m\u001b[0m\u001b[0m\n\u001b[1;32m     69\u001b[0m \u001b[0;31m# The number of people involved in the longest succession of influences\u001b[0m\u001b[0;34m\u001b[0m\u001b[0;34m\u001b[0m\u001b[0;34m\u001b[0m\u001b[0m\n\u001b[0;32m---> 70\u001b[0;31m \u001b[0mprint\u001b[0m\u001b[0;34m(\u001b[0m\u001b[0mgraph\u001b[0m\u001b[0;34m.\u001b[0m\u001b[0mget_graph_h\u001b[0m\u001b[0;34m(\u001b[0m\u001b[0;34m)\u001b[0m\u001b[0;34m)\u001b[0m\u001b[0;34m\u001b[0m\u001b[0;34m\u001b[0m\u001b[0m\n\u001b[0m",
      "\u001b[0;32m<ipython-input-42-250d62e23906>\u001b[0m in \u001b[0;36mget_graph_h\u001b[0;34m(self)\u001b[0m\n\u001b[1;32m     28\u001b[0m         \u001b[0mgraph_h\u001b[0m \u001b[0;34m=\u001b[0m \u001b[0;36m0\u001b[0m\u001b[0;34m\u001b[0m\u001b[0;34m\u001b[0m\u001b[0m\n\u001b[1;32m     29\u001b[0m         \u001b[0;32mfor\u001b[0m \u001b[0mkey\u001b[0m \u001b[0;32min\u001b[0m \u001b[0mself\u001b[0m\u001b[0;34m.\u001b[0m\u001b[0mnodes\u001b[0m\u001b[0;34m:\u001b[0m\u001b[0;34m\u001b[0m\u001b[0;34m\u001b[0m\u001b[0m\n\u001b[0;32m---> 30\u001b[0;31m             \u001b[0mchild_h\u001b[0m \u001b[0;34m=\u001b[0m \u001b[0mself\u001b[0m\u001b[0;34m.\u001b[0m\u001b[0mnodes\u001b[0m\u001b[0;34m[\u001b[0m\u001b[0mkey\u001b[0m\u001b[0;34m]\u001b[0m\u001b[0;34m.\u001b[0m\u001b[0mget_h\u001b[0m\u001b[0;34m(\u001b[0m\u001b[0;34m)\u001b[0m\u001b[0;34m\u001b[0m\u001b[0;34m\u001b[0m\u001b[0m\n\u001b[0m\u001b[1;32m     31\u001b[0m             \u001b[0mgraph_h\u001b[0m \u001b[0;34m=\u001b[0m \u001b[0mmax\u001b[0m\u001b[0;34m(\u001b[0m\u001b[0mgraph_h\u001b[0m\u001b[0;34m,\u001b[0m \u001b[0mchild_h\u001b[0m\u001b[0;34m)\u001b[0m\u001b[0;34m\u001b[0m\u001b[0;34m\u001b[0m\u001b[0m\n\u001b[1;32m     32\u001b[0m         \u001b[0;32mreturn\u001b[0m \u001b[0mgraph_h\u001b[0m\u001b[0;34m\u001b[0m\u001b[0;34m\u001b[0m\u001b[0m\n",
      "\u001b[0;32m<ipython-input-42-250d62e23906>\u001b[0m in \u001b[0;36mget_h\u001b[0;34m(self)\u001b[0m\n\u001b[1;32m     10\u001b[0m         \u001b[0;32mfor\u001b[0m \u001b[0mchild\u001b[0m \u001b[0;32min\u001b[0m \u001b[0mself\u001b[0m\u001b[0;34m.\u001b[0m\u001b[0mchild\u001b[0m\u001b[0;34m:\u001b[0m\u001b[0;34m\u001b[0m\u001b[0;34m\u001b[0m\u001b[0m\n\u001b[1;32m     11\u001b[0m             \u001b[0;31m# 자식\u001b[0m\u001b[0;34m\u001b[0m\u001b[0;34m\u001b[0m\u001b[0;34m\u001b[0m\u001b[0m\n\u001b[0;32m---> 12\u001b[0;31m             \u001b[0mmax_h\u001b[0m \u001b[0;34m=\u001b[0m \u001b[0mmax\u001b[0m\u001b[0;34m(\u001b[0m\u001b[0mmax_h\u001b[0m\u001b[0;34m,\u001b[0m \u001b[0mchild\u001b[0m\u001b[0;34m.\u001b[0m\u001b[0mget_h\u001b[0m\u001b[0;34m(\u001b[0m\u001b[0;34m)\u001b[0m\u001b[0;34m)\u001b[0m\u001b[0;34m\u001b[0m\u001b[0;34m\u001b[0m\u001b[0m\n\u001b[0m\u001b[1;32m     13\u001b[0m         \u001b[0;32mreturn\u001b[0m \u001b[0mmax_h\u001b[0m \u001b[0;34m+\u001b[0m \u001b[0;36m1\u001b[0m\u001b[0;34m\u001b[0m\u001b[0;34m\u001b[0m\u001b[0m\n\u001b[1;32m     14\u001b[0m \u001b[0;34m\u001b[0m\u001b[0m\n",
      "\u001b[0;31mAttributeError\u001b[0m: 'Node' object has no attribute 'get_h'"
     ]
    }
   ],
   "source": [
    "import sys\n",
    "import math\n",
    "\n",
    "class Node:\n",
    "    def __init__(self, value):\n",
    "        self.value = value\n",
    "        self.children = []\n",
    "\n",
    "    def get_height(self):\n",
    "        max_height = 0\n",
    "        for child in self.children:\n",
    "            max_height = max(max_height, child.get_height())\n",
    "        return max_height + 1\n",
    "\n",
    "\n",
    "class Graph:\n",
    "    def __init__(self):\n",
    "        self.nodes = {}\n",
    "        \n",
    "    \n",
    "    def influence(self, x, y):\n",
    "        if x not in self.nodes:\n",
    "            self.nodes[x] = Node(x)\n",
    "        if y not in self.nodes:\n",
    "            self.nodes[y] = Node(y)\n",
    "        self.nodes[x].children.append(self.nodes[y])\n",
    "    \"\"\"    \n",
    "    def calculate_height_bfs(self):\n",
    "        queue = [self.root]\n",
    "        while queue:\n",
    "            node = queue.pop(0)\n",
    "            for child in node.children:\n",
    "                if child.height <= node.height:\n",
    "                    child.height = node.height + 1\n",
    "                queue.append(child)\n",
    "\n",
    "    def calculate_height_dfs(self):\n",
    "        stack = [self.root]\n",
    "        while stack:\n",
    "            node = stack.pop()\n",
    "            for child in node.children:\n",
    "                if child.height <= node.height:\n",
    "                child.height = node.height + 1\n",
    "                stack.append(child)\n",
    "    \n",
    "\n",
    "    def get_node_height(node):\n",
    "        max_height = 0\n",
    "\n",
    "        for child in node.children:\n",
    "            child_height = get_node_height(child)\n",
    "            max_height = max(max_height, child_height)\n",
    "            return max_height + 1\n",
    "\"\"\"\n",
    "    def get_graph_height(self):\n",
    "        graph_height = 0\n",
    "        for key in self.nodes:\n",
    "            child_height = self.nodes[key].get_height()\n",
    "            graph_height = max(graph_height, child_height)\n",
    "        return graph_height\n",
    "\n",
    "n = int(input())  # the number of relationships of influence\n",
    "graph = Graph()\n",
    "for i in range(n):\n",
    "    # x: a relationship of influence between two people (x influences y)\n",
    "    x, y = [int(j) for j in input().split()]\n",
    "    graph.influence(x,y)\n",
    "\n",
    "# print(\"Debug messages...\", file=sys.stderr, flush=True)\n",
    "# The number of people involved in the longest succession of influences\n",
    "print(graph.get_graph_height())\n"
   ]
  },
  {
   "cell_type": "code",
   "execution_count": null,
   "metadata": {},
   "outputs": [],
   "source": []
  }
 ]
}